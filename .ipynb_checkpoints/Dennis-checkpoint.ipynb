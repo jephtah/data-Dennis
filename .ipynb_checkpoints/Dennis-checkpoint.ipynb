{
 "cells": [
  {
   "cell_type": "code",
   "execution_count": 1,
   "metadata": {},
   "outputs": [],
   "source": [
    "import pandas as pd"
   ]
  },
  {
   "cell_type": "code",
   "execution_count": 2,
   "metadata": {},
   "outputs": [],
   "source": [
    "data = pd.read_excel(\"Data analytics Challenge.xlsx\", sheet_name=\"HR\")"
   ]
  },
  {
   "cell_type": "code",
   "execution_count": 3,
   "metadata": {},
   "outputs": [
    {
     "data": {
      "text/html": [
       "<div>\n",
       "<style scoped>\n",
       "    .dataframe tbody tr th:only-of-type {\n",
       "        vertical-align: middle;\n",
       "    }\n",
       "\n",
       "    .dataframe tbody tr th {\n",
       "        vertical-align: top;\n",
       "    }\n",
       "\n",
       "    .dataframe thead th {\n",
       "        text-align: right;\n",
       "    }\n",
       "</style>\n",
       "<table border=\"1\" class=\"dataframe\">\n",
       "  <thead>\n",
       "    <tr style=\"text-align: right;\">\n",
       "      <th></th>\n",
       "      <th>Month</th>\n",
       "      <th>#Employee</th>\n",
       "      <th>Form</th>\n",
       "      <th>SalesSystemCode</th>\n",
       "      <th>Payroll Type</th>\n",
       "      <th>Nombre</th>\n",
       "      <th>Title</th>\n",
       "      <th>Sex</th>\n",
       "      <th>BIRTH DATE</th>\n",
       "      <th>Starting date</th>\n",
       "      <th>...</th>\n",
       "      <th>Características (S)</th>\n",
       "      <th>Características (C)</th>\n",
       "      <th>Motivación (D)</th>\n",
       "      <th>Motivación (I)</th>\n",
       "      <th>Motivación (S)</th>\n",
       "      <th>Motivación (C)</th>\n",
       "      <th>Bajo Stress (D)</th>\n",
       "      <th>Bajo Stress (I)</th>\n",
       "      <th>Bajo Stress (S)</th>\n",
       "      <th>Bajo Stress (C)</th>\n",
       "    </tr>\n",
       "  </thead>\n",
       "  <tbody>\n",
       "    <tr>\n",
       "      <th>0</th>\n",
       "      <td>2017-12-01</td>\n",
       "      <td>91818</td>\n",
       "      <td>Tele</td>\n",
       "      <td>91818</td>\n",
       "      <td>Insourcing</td>\n",
       "      <td>NaN</td>\n",
       "      <td>SALES SUPERVISOR</td>\n",
       "      <td>M</td>\n",
       "      <td>1982-11-05</td>\n",
       "      <td>2012-04-23</td>\n",
       "      <td>...</td>\n",
       "      <td>NaN</td>\n",
       "      <td>NaN</td>\n",
       "      <td>NaN</td>\n",
       "      <td>NaN</td>\n",
       "      <td>NaN</td>\n",
       "      <td>NaN</td>\n",
       "      <td>NaN</td>\n",
       "      <td>NaN</td>\n",
       "      <td>NaN</td>\n",
       "      <td>NaN</td>\n",
       "    </tr>\n",
       "    <tr>\n",
       "      <th>1</th>\n",
       "      <td>2017-12-01</td>\n",
       "      <td>1812446</td>\n",
       "      <td>People</td>\n",
       "      <td>802446</td>\n",
       "      <td>Third Party</td>\n",
       "      <td>NaN</td>\n",
       "      <td>SALES EXECUTIVE</td>\n",
       "      <td>F</td>\n",
       "      <td>1987-09-24</td>\n",
       "      <td>2017-04-10</td>\n",
       "      <td>...</td>\n",
       "      <td>20.0</td>\n",
       "      <td>25.0</td>\n",
       "      <td>85.0</td>\n",
       "      <td>95.0</td>\n",
       "      <td>11.0</td>\n",
       "      <td>7.0</td>\n",
       "      <td>60.0</td>\n",
       "      <td>86.0</td>\n",
       "      <td>40.0</td>\n",
       "      <td>60.0</td>\n",
       "    </tr>\n",
       "    <tr>\n",
       "      <th>2</th>\n",
       "      <td>2017-12-01</td>\n",
       "      <td>1812380</td>\n",
       "      <td>People</td>\n",
       "      <td>2380</td>\n",
       "      <td>Third Party</td>\n",
       "      <td>NaN</td>\n",
       "      <td>SALES EXECUTIVE</td>\n",
       "      <td>F</td>\n",
       "      <td>1981-01-13</td>\n",
       "      <td>2017-03-13</td>\n",
       "      <td>...</td>\n",
       "      <td>48.0</td>\n",
       "      <td>34.0</td>\n",
       "      <td>75.0</td>\n",
       "      <td>74.0</td>\n",
       "      <td>58.0</td>\n",
       "      <td>33.0</td>\n",
       "      <td>69.0</td>\n",
       "      <td>60.0</td>\n",
       "      <td>60.0</td>\n",
       "      <td>48.0</td>\n",
       "    </tr>\n",
       "    <tr>\n",
       "      <th>3</th>\n",
       "      <td>2017-12-01</td>\n",
       "      <td>700865</td>\n",
       "      <td>Stratego</td>\n",
       "      <td>700865</td>\n",
       "      <td>Third Party</td>\n",
       "      <td>NaN</td>\n",
       "      <td>SALES EXECUTIVE</td>\n",
       "      <td>M</td>\n",
       "      <td>1986-04-18</td>\n",
       "      <td>2015-01-22</td>\n",
       "      <td>...</td>\n",
       "      <td>75.0</td>\n",
       "      <td>85.0</td>\n",
       "      <td>40.0</td>\n",
       "      <td>74.0</td>\n",
       "      <td>65.0</td>\n",
       "      <td>84.0</td>\n",
       "      <td>79.0</td>\n",
       "      <td>6.0</td>\n",
       "      <td>89.0</td>\n",
       "      <td>84.0</td>\n",
       "    </tr>\n",
       "    <tr>\n",
       "      <th>4</th>\n",
       "      <td>2017-12-01</td>\n",
       "      <td>1812531</td>\n",
       "      <td>People</td>\n",
       "      <td>802531</td>\n",
       "      <td>Third Party</td>\n",
       "      <td>NaN</td>\n",
       "      <td>SALES EXECUTIVE</td>\n",
       "      <td>F</td>\n",
       "      <td>1991-06-24</td>\n",
       "      <td>2017-05-18</td>\n",
       "      <td>...</td>\n",
       "      <td>40.0</td>\n",
       "      <td>94.0</td>\n",
       "      <td>59.0</td>\n",
       "      <td>25.0</td>\n",
       "      <td>65.0</td>\n",
       "      <td>93.0</td>\n",
       "      <td>79.0</td>\n",
       "      <td>18.0</td>\n",
       "      <td>30.0</td>\n",
       "      <td>92.0</td>\n",
       "    </tr>\n",
       "  </tbody>\n",
       "</table>\n",
       "<p>5 rows × 39 columns</p>\n",
       "</div>"
      ],
      "text/plain": [
       "       Month  #Employee      Form SalesSystemCode Payroll Type  Nombre  \\\n",
       "0 2017-12-01      91818      Tele           91818   Insourcing     NaN   \n",
       "1 2017-12-01    1812446    People          802446  Third Party     NaN   \n",
       "2 2017-12-01    1812380    People            2380  Third Party     NaN   \n",
       "3 2017-12-01     700865  Stratego          700865  Third Party     NaN   \n",
       "4 2017-12-01    1812531    People          802531  Third Party     NaN   \n",
       "\n",
       "              Title Sex BIRTH DATE Starting date       ...         \\\n",
       "0  SALES SUPERVISOR   M 1982-11-05    2012-04-23       ...          \n",
       "1   SALES EXECUTIVE   F 1987-09-24    2017-04-10       ...          \n",
       "2   SALES EXECUTIVE   F 1981-01-13    2017-03-13       ...          \n",
       "3   SALES EXECUTIVE   M 1986-04-18    2015-01-22       ...          \n",
       "4   SALES EXECUTIVE   F 1991-06-24    2017-05-18       ...          \n",
       "\n",
       "  Características (S)  Características (C)  Motivación (D)  Motivación (I)  \\\n",
       "0                 NaN                  NaN             NaN             NaN   \n",
       "1                20.0                 25.0            85.0            95.0   \n",
       "2                48.0                 34.0            75.0            74.0   \n",
       "3                75.0                 85.0            40.0            74.0   \n",
       "4                40.0                 94.0            59.0            25.0   \n",
       "\n",
       "  Motivación (S) Motivación (C) Bajo Stress (D)  Bajo Stress (I)  \\\n",
       "0            NaN            NaN             NaN              NaN   \n",
       "1           11.0            7.0            60.0             86.0   \n",
       "2           58.0           33.0            69.0             60.0   \n",
       "3           65.0           84.0            79.0              6.0   \n",
       "4           65.0           93.0            79.0             18.0   \n",
       "\n",
       "   Bajo Stress (S)  Bajo Stress (C)  \n",
       "0              NaN              NaN  \n",
       "1             40.0             60.0  \n",
       "2             60.0             48.0  \n",
       "3             89.0             84.0  \n",
       "4             30.0             92.0  \n",
       "\n",
       "[5 rows x 39 columns]"
      ]
     },
     "execution_count": 3,
     "metadata": {},
     "output_type": "execute_result"
    }
   ],
   "source": [
    "data.head()"
   ]
  },
  {
   "cell_type": "code",
   "execution_count": 4,
   "metadata": {},
   "outputs": [],
   "source": [
    "import matplotlib.pyplot as plt\n",
    "%matplotlib inline\n",
    "\n",
    "import seaborn as sns"
   ]
  },
  {
   "cell_type": "code",
   "execution_count": 5,
   "metadata": {},
   "outputs": [
    {
     "data": {
      "text/plain": [
       "<matplotlib.axes._subplots.AxesSubplot at 0x7fa3d4834a20>"
      ]
     },
     "execution_count": 5,
     "metadata": {},
     "output_type": "execute_result"
    },
    {
     "data": {
      "image/png": "[encoded data removed]",
      "text/plain": [
       "<Figure size 432x288 with 1 Axes>"
      ]
     },
     "metadata": {},
     "output_type": "display_data"
    }
   ],
   "source": [
    "data['Fulfilment %'].hist()"
   ]
  },
  {
   "cell_type": "code",
   "execution_count": 6,
   "metadata": {},
   "outputs": [],
   "source": [
    "new_data = data[['Month', 'Form', 'Payroll Type', 'Title', 'Sex', 'Supervisors', 'BASE', 'TRANSPORTE', 'Commission_Target','Nationality','Sales Quota (points)', 'Real (points)', 'Fulfilment %', 'Commission Accrued', 'OA Commission Accrued','Clawback', 'Other Commissions', 'Commission paid']]"
   ]
  },
  {
   "cell_type": "code",
   "execution_count": 7,
   "metadata": {},
   "outputs": [
    {
     "data": {
      "text/html": [
       "<div>\n",
       "<style scoped>\n",
       "    .dataframe tbody tr th:only-of-type {\n",
       "        vertical-align: middle;\n",
       "    }\n",
       "\n",
       "    .dataframe tbody tr th {\n",
       "        vertical-align: top;\n",
       "    }\n",
       "\n",
       "    .dataframe thead th {\n",
       "        text-align: right;\n",
       "    }\n",
       "</style>\n",
       "<table border=\"1\" class=\"dataframe\">\n",
       "  <thead>\n",
       "    <tr style=\"text-align: right;\">\n",
       "      <th></th>\n",
       "      <th>Month</th>\n",
       "      <th>Form</th>\n",
       "      <th>Payroll Type</th>\n",
       "      <th>Title</th>\n",
       "      <th>Sex</th>\n",
       "      <th>Supervisors</th>\n",
       "      <th>BASE</th>\n",
       "      <th>TRANSPORTE</th>\n",
       "      <th>Commission_Target</th>\n",
       "      <th>Nationality</th>\n",
       "      <th>Sales Quota (points)</th>\n",
       "      <th>Real (points)</th>\n",
       "      <th>Fulfilment %</th>\n",
       "      <th>Commission Accrued</th>\n",
       "      <th>OA Commission Accrued</th>\n",
       "      <th>Clawback</th>\n",
       "      <th>Other Commissions</th>\n",
       "      <th>Commission paid</th>\n",
       "    </tr>\n",
       "  </thead>\n",
       "  <tbody>\n",
       "    <tr>\n",
       "      <th>0</th>\n",
       "      <td>2017-12-01</td>\n",
       "      <td>Tele</td>\n",
       "      <td>Insourcing</td>\n",
       "      <td>SALES SUPERVISOR</td>\n",
       "      <td>M</td>\n",
       "      <td>7885</td>\n",
       "      <td>895</td>\n",
       "      <td>350</td>\n",
       "      <td>708.33</td>\n",
       "      <td>INT</td>\n",
       "      <td>1810.0</td>\n",
       "      <td>1855.0</td>\n",
       "      <td>1.024862</td>\n",
       "      <td>708.33</td>\n",
       "      <td>653.66</td>\n",
       "      <td>0.00</td>\n",
       "      <td>0.00</td>\n",
       "      <td>1361.99</td>\n",
       "    </tr>\n",
       "    <tr>\n",
       "      <th>1</th>\n",
       "      <td>2017-12-01</td>\n",
       "      <td>People</td>\n",
       "      <td>Third Party</td>\n",
       "      <td>SALES EXECUTIVE</td>\n",
       "      <td>F</td>\n",
       "      <td>91818</td>\n",
       "      <td>700</td>\n",
       "      <td>250</td>\n",
       "      <td>583.33</td>\n",
       "      <td>INT</td>\n",
       "      <td>108.0</td>\n",
       "      <td>86.0</td>\n",
       "      <td>0.796296</td>\n",
       "      <td>583.33</td>\n",
       "      <td>87.50</td>\n",
       "      <td>24.33</td>\n",
       "      <td>0.00</td>\n",
       "      <td>646.51</td>\n",
       "    </tr>\n",
       "    <tr>\n",
       "      <th>2</th>\n",
       "      <td>2017-12-01</td>\n",
       "      <td>People</td>\n",
       "      <td>Third Party</td>\n",
       "      <td>SALES EXECUTIVE</td>\n",
       "      <td>F</td>\n",
       "      <td>91818</td>\n",
       "      <td>700</td>\n",
       "      <td>250</td>\n",
       "      <td>583.33</td>\n",
       "      <td>INT</td>\n",
       "      <td>108.0</td>\n",
       "      <td>245.0</td>\n",
       "      <td>2.268519</td>\n",
       "      <td>583.33</td>\n",
       "      <td>1494.79</td>\n",
       "      <td>144.90</td>\n",
       "      <td>9.16</td>\n",
       "      <td>1942.38</td>\n",
       "    </tr>\n",
       "    <tr>\n",
       "      <th>3</th>\n",
       "      <td>2017-12-01</td>\n",
       "      <td>Stratego</td>\n",
       "      <td>Third Party</td>\n",
       "      <td>SALES EXECUTIVE</td>\n",
       "      <td>M</td>\n",
       "      <td>91818</td>\n",
       "      <td>700</td>\n",
       "      <td>250</td>\n",
       "      <td>583.33</td>\n",
       "      <td>INT</td>\n",
       "      <td>108.0</td>\n",
       "      <td>149.0</td>\n",
       "      <td>1.379630</td>\n",
       "      <td>583.33</td>\n",
       "      <td>794.79</td>\n",
       "      <td>36.77</td>\n",
       "      <td>9.16</td>\n",
       "      <td>1350.52</td>\n",
       "    </tr>\n",
       "    <tr>\n",
       "      <th>4</th>\n",
       "      <td>2017-12-01</td>\n",
       "      <td>People</td>\n",
       "      <td>Third Party</td>\n",
       "      <td>SALES EXECUTIVE</td>\n",
       "      <td>F</td>\n",
       "      <td>91818</td>\n",
       "      <td>700</td>\n",
       "      <td>250</td>\n",
       "      <td>583.33</td>\n",
       "      <td>INT</td>\n",
       "      <td>108.0</td>\n",
       "      <td>91.0</td>\n",
       "      <td>0.842593</td>\n",
       "      <td>583.33</td>\n",
       "      <td>160.42</td>\n",
       "      <td>0.00</td>\n",
       "      <td>0.00</td>\n",
       "      <td>743.75</td>\n",
       "    </tr>\n",
       "  </tbody>\n",
       "</table>\n",
       "</div>"
      ],
      "text/plain": [
       "       Month      Form Payroll Type             Title Sex Supervisors  BASE  \\\n",
       "0 2017-12-01      Tele   Insourcing  SALES SUPERVISOR   M        7885   895   \n",
       "1 2017-12-01    People  Third Party   SALES EXECUTIVE   F       91818   700   \n",
       "2 2017-12-01    People  Third Party   SALES EXECUTIVE   F       91818   700   \n",
       "3 2017-12-01  Stratego  Third Party   SALES EXECUTIVE   M       91818   700   \n",
       "4 2017-12-01    People  Third Party   SALES EXECUTIVE   F       91818   700   \n",
       "\n",
       "   TRANSPORTE  Commission_Target Nationality  Sales Quota (points)  \\\n",
       "0         350             708.33         INT                1810.0   \n",
       "1         250             583.33         INT                 108.0   \n",
       "2         250             583.33         INT                 108.0   \n",
       "3         250             583.33         INT                 108.0   \n",
       "4         250             583.33         INT                 108.0   \n",
       "\n",
       "   Real (points)  Fulfilment %  Commission Accrued  OA Commission Accrued  \\\n",
       "0         1855.0      1.024862              708.33                 653.66   \n",
       "1           86.0      0.796296              583.33                  87.50   \n",
       "2          245.0      2.268519              583.33                1494.79   \n",
       "3          149.0      1.379630              583.33                 794.79   \n",
       "4           91.0      0.842593              583.33                 160.42   \n",
       "\n",
       "   Clawback  Other Commissions  Commission paid  \n",
       "0      0.00               0.00          1361.99  \n",
       "1     24.33               0.00           646.51  \n",
       "2    144.90               9.16          1942.38  \n",
       "3     36.77               9.16          1350.52  \n",
       "4      0.00               0.00           743.75  "
      ]
     },
     "execution_count": 7,
     "metadata": {},
     "output_type": "execute_result"
    }
   ],
   "source": [
    "new_data.head()"
   ]
  },
  {
   "cell_type": "code",
   "execution_count": 8,
   "metadata": {},
   "outputs": [
    {
     "name": "stdout",
     "output_type": "stream",
     "text": [
      "<class 'pandas.core.frame.DataFrame'>\n",
      "RangeIndex: 2440 entries, 0 to 2439\n",
      "Data columns (total 18 columns):\n",
      "Month                    2440 non-null datetime64[ns]\n",
      "Form                     2440 non-null object\n",
      "Payroll Type             2440 non-null object\n",
      "Title                    2440 non-null object\n",
      "Sex                      2440 non-null object\n",
      "Supervisors              2440 non-null object\n",
      "BASE                     2440 non-null int64\n",
      "TRANSPORTE               2440 non-null int64\n",
      "Commission_Target        2440 non-null float64\n",
      "Nationality              2439 non-null object\n",
      "Sales Quota (points)     2365 non-null float64\n",
      "Real (points)            2366 non-null float64\n",
      "Fulfilment %             2367 non-null float64\n",
      "Commission Accrued       2440 non-null float64\n",
      "OA Commission Accrued    2440 non-null float64\n",
      "Clawback                 2440 non-null float64\n",
      "Other Commissions        2440 non-null float64\n",
      "Commission paid          2440 non-null float64\n",
      "dtypes: datetime64[ns](1), float64(9), int64(2), object(6)\n",
      "memory usage: 343.2+ KB\n"
     ]
    }
   ],
   "source": [
    "new_data.info()"
   ]
  },
  {
   "cell_type": "markdown",
   "metadata": {},
   "source": [
    "### Result from this code shows that from the data chosen we have missing data in the following columns:\n",
    "\n",
    "* nationality \n",
    "* Sales Quota (points)\n",
    "* Real (points)\n",
    "* Fulfillment %"
   ]
  },
  {
   "cell_type": "code",
   "execution_count": 9,
   "metadata": {},
   "outputs": [
    {
     "data": {
      "text/plain": [
       "1"
      ]
     },
     "execution_count": 9,
     "metadata": {},
     "output_type": "execute_result"
    }
   ],
   "source": [
    "new_data['Nationality'].isna().sum()"
   ]
  },
  {
   "cell_type": "code",
   "execution_count": 10,
   "metadata": {},
   "outputs": [
    {
     "data": {
      "text/plain": [
       "2440"
      ]
     },
     "execution_count": 10,
     "metadata": {},
     "output_type": "execute_result"
    }
   ],
   "source": [
    "new_data[\"Title\"].count()"
   ]
  },
  {
   "cell_type": "markdown",
   "metadata": {},
   "source": [
    "### The count above shows that we have "
   ]
  },
  {
   "cell_type": "code",
   "execution_count": 11,
   "metadata": {},
   "outputs": [
    {
     "data": {
      "text/plain": [
       "72"
      ]
     },
     "execution_count": 11,
     "metadata": {},
     "output_type": "execute_result"
    }
   ],
   "source": [
    "\n",
    "(new_data[\"Title\"] == \"SALES SUPERVISOR\").sum()"
   ]
  },
  {
   "cell_type": "code",
   "execution_count": 12,
   "metadata": {},
   "outputs": [
    {
     "data": {
      "text/plain": [
       "2227"
      ]
     },
     "execution_count": 12,
     "metadata": {},
     "output_type": "execute_result"
    }
   ],
   "source": [
    "(new_data[\"Title\"] == \"SALES EXECUTIVE\").sum()"
   ]
  },
  {
   "cell_type": "code",
   "execution_count": 13,
   "metadata": {},
   "outputs": [
    {
     "data": {
      "text/plain": [
       "array(['SALES SUPERVISOR', 'SALES EXECUTIVE', 'SALES EXECUTIVE '],\n",
       "      dtype=object)"
      ]
     },
     "execution_count": 13,
     "metadata": {},
     "output_type": "execute_result"
    }
   ],
   "source": [
    "new_data[\"Title\"].unique()"
   ]
  },
  {
   "cell_type": "code",
   "execution_count": null,
   "metadata": {},
   "outputs": [],
   "source": []
  }
 ],
 "metadata": {
  "kernelspec": {
   "display_name": "Python 3",
   "language": "python",
   "name": "python3"
  },
  "language_info": {
   "codemirror_mode": {
    "name": "ipython",
    "version": 3
   },
   "file_extension": ".py",
   "mimetype": "text/x-python",
   "name": "python",
   "nbconvert_exporter": "python",
   "pygments_lexer": "ipython3",
   "version": "3.6.5"
  }
 },
 "nbformat": 4,
 "nbformat_minor": 2
}
